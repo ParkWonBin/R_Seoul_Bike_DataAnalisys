{
 "cells": [
  {
   "cell_type": "markdown",
   "metadata": {},
   "source": [
    "# 따릉이 데이터 전처리"
   ]
  },
  {
   "cell_type": "code",
   "execution_count": 1,
   "metadata": {},
   "outputs": [
    {
     "name": "stdout",
     "output_type": "stream",
     "text": [
      "0 : 서울특별시 공공자전거 대여이력_2015년.csv\n",
      "1 : 서울특별시 공공자전거 대여이력_2016년_1.csv\n",
      "2 : 서울특별시 공공자전거 대여이력_2016년_2.csv\n",
      "3 : 서울특별시 공공자전거 대여이력_2016년_3.csv\n",
      "4 : 서울특별시 공공자전거 대여이력_2017년_1.csv\n",
      "5 : 서울특별시 공공자전거 대여이력_2017년_2분기_1.csv\n",
      "6 : 서울특별시 공공자전거 대여이력_2017년_2분기_2.csv\n",
      "7 : 서울특별시 공공자전거 대여이력_2017년_3분기_1.csv\n",
      "8 : 서울특별시 공공자전거 대여이력_2017년_3분기_2.csv\n",
      "9 : 서울특별시 공공자전거 대여이력_2017년_4분기_1.csv\n",
      "10 : 서울특별시 공공자전거 대여이력_2017년_4분기_2.csv\n",
      "11 : 서울특별시 공공자전거 대여이력_2018년_1분기_1.csv\n",
      "12 : 서울특별시 공공자전거 대여이력_2018년_2분기_1.csv\n",
      "13 : 서울특별시 공공자전거 대여이력_2018년_2분기_2.csv\n",
      "14 : 서울특별시 공공자전거 대여이력_2018년_2분기_3.csv\n",
      "15 : 서울특별시 공공자전거 대여이력_2018년_2분기_4.csv\n",
      "16 : 서울특별시 공공자전거 대여정보_201808.csv\n",
      "17 : 서울특별시 공공자전거 대여정보_201809_1.csv\n",
      "18 : 서울특별시 공공자전거 대여정보_201809_2.csv\n",
      "19 : 서울특별시 공공자전거 대여정보_201810_01.csv\n",
      "20 : 서울특별시 공공자전거 대여정보_201810_02.csv\n",
      "21 : 서울특별시 공공자전거 대여정보_201811.csv\n",
      "22 : 서울특별시 공공자전거 대여정보_201812.csv\n",
      "23 : 서울특별시 공공자전거 대여정보_201901.csv\n",
      "24 : 서울특별시 공공자전거 대여정보_201902.csv\n",
      "25 : 서울특별시 공공자전거 대여정보_201903.csv\n",
      "26 : 서울특별시 공공자전거 대여정보_201904.csv\n",
      "27 : 서울특별시 공공자전거 대여정보_201905.csv\n",
      "28 : 서울특별시 공공자전거 대여정보_201906_1.csv\n",
      "29 : 서울특별시 공공자전거 대여정보_201906_2.csv\n",
      "30 : 서울특별시 공공자전거 대여정보_201906_3.csv\n",
      "31 : 서울특별시 공공자전거 대여정보_201907_1.csv\n",
      "32 : 서울특별시 공공자전거 대여정보_201907_2.csv\n",
      "33 : 서울특별시 공공자전거 대여정보_201907_3.csv\n",
      "34 : 서울특별시 공공자전거 대여정보_201908_1.csv\n",
      "35 : 서울특별시 공공자전거 대여정보_201908_2.csv\n",
      "36 : 서울특별시 공공자전거 대여정보_201908_3.csv\n",
      "37 : 서울특별시 공공자전거 대여정보_201909_1.csv\n",
      "38 : 서울특별시 공공자전거 대여정보_201909_2.csv\n",
      "39 : 서울특별시 공공자전거 대여정보_201909_3.csv\n",
      "40 : 서울특별시 공공자전거 대여정보_201910_1.csv\n",
      "41 : 서울특별시 공공자전거 대여정보_201910_2.csv\n",
      "42 : 서울특별시 공공자전거 대여정보_201910_3.csv\n",
      "43 : 서울특별시 공공자전거 대여정보_201911_1.csv\n",
      "44 : 서울특별시 공공자전거 대여정보_201911_2.csv\n",
      "45 : 서울특별시 공공자전거 대여정보_201912.csv\n",
      "46 : 서울특별시 공공자전거 대여정보_202001.csv\n",
      "47 : 서울특별시 공공자전거 대여정보_202002.csv\n",
      "48 : 서울특별시 공공자전거 대여정보_202003.csv\n",
      "49 : 서울특별시 공공자전거 대여정보_202004.csv\n",
      "50 : 서울특별시 공공자전거 대여정보_202005.csv\n",
      "51 : 서울특별시 공공자전거 대여정보_202006.csv\n"
     ]
    }
   ],
   "source": [
    "import os\n",
    "import numpy as np\n",
    "import pandas as pd\n",
    "import matplotlib.pyplot as plt\n",
    "from dateutil.parser import parse\n",
    "from datetime import datetime, timedelta\n",
    "\n",
    "def set_num(txt):\n",
    "    try: return int(str(txt).strip(\"'\").lstrip(\"SPB-\"))\n",
    "    except : return 0\n",
    "\n",
    "%matplotlib inline\n",
    "pd.options.display.float_format = '{:.6g}'.format\n",
    "plt.rcParams['font.family'] ='Malgun Gothic'\n",
    "plt.rcParams['font.size'] = 15\n",
    "\n",
    "ws = \"2015~2020_자전거 코드별 이용정보/\"\n",
    "directory = os.listdir(ws); directory\n",
    "\n",
    "for i in range(len(directory)):\n",
    "    print(i,':',directory[i])"
   ]
  },
  {
   "cell_type": "markdown",
   "metadata": {},
   "source": [
    "[날짜계산](https://yuddomack.tistory.com/entry/%ED%8C%8C%EC%9D%B4%EC%8D%AC-datetime-%EB%82%A0%EC%A7%9C-%EA%B3%84%EC%82%B0)"
   ]
  },
  {
   "cell_type": "code",
   "execution_count": null,
   "metadata": {},
   "outputs": [],
   "source": [
    "for i in range(46):\n",
    "    x = pd.read_csv(ws+directory[i],encoding='CP949')\n",
    "    x = x.iloc[:,[0,5,2,6,9,10]]\n",
    "    x.columns = x.columns = ['bike','date','start','end','time','dist']\n",
    "    x['bike']=x['bike'].map(set_num)\n",
    "    x['date']=x['date'].astype('datetime64[D]').map(lambda x : (x-datetime(2015, 9, 18)).days)\n",
    "\n",
    "    x.to_csv(f\"use/_Bike-Use{i}.csv\", index=False)"
   ]
  },
  {
   "cell_type": "code",
   "execution_count": 164,
   "metadata": {},
   "outputs": [],
   "source": [
    "y = pd.read_csv(ws+directory[46],encoding='CP949')\n",
    "y = y.iloc[:,[0,5,2,6,9,10]]\n",
    "y.columns = ['bike','date','start','end','time','dist']\n",
    "y['bike']=y['bike'].map(set_num)\n",
    "y['date']=y['date'].map(lambda x : (parse(x[:10])-datetime(2015, 9, 18)).days)"
   ]
  },
  {
   "cell_type": "markdown",
   "metadata": {},
   "source": [
    "# 날짜 데이터 몇개가 깨져있는 것을 알게 됐다."
   ]
  },
  {
   "cell_type": "code",
   "execution_count": 67,
   "metadata": {
    "scrolled": false
   },
   "outputs": [
    {
     "data": {
      "text/plain": [
       "<matplotlib.axes._subplots.AxesSubplot at 0x278f5259088>"
      ]
     },
     "execution_count": 67,
     "metadata": {},
     "output_type": "execute_result"
    },
    {
     "data": {
      "image/png": "[encoded data removed]",
      "text/plain": [
       "<Figure size 432x288 with 1 Axes>"
      ]
     },
     "metadata": {
      "needs_background": "light"
     },
     "output_type": "display_data"
    }
   ],
   "source": [
    "b.plot.scatter(x='date', y='count')"
   ]
  },
  {
   "cell_type": "code",
   "execution_count": 16,
   "metadata": {},
   "outputs": [
    {
     "name": "stderr",
     "output_type": "stream",
     "text": [
      "C:\\Users\\pwb1128\\Anaconda3\\lib\\site-packages\\IPython\\core\\interactiveshell.py:3058: DtypeWarning: Columns (3) have mixed types. Specify dtype option on import or set low_memory=False.\n",
      "  interactivity=interactivity, compiler=compiler, result=result)\n"
     ]
    },
    {
     "name": "stdout",
     "output_type": "stream",
     "text": [
      "_Bike-Use46.csv\n",
      "_Bike-Use47.csv\n",
      "_Bike-Use48.csv\n",
      "_Bike-Use49.csv\n",
      "_Bike-Use50.csv\n"
     ]
    },
    {
     "data": {
      "text/html": [
       "<div>\n",
       "<style scoped>\n",
       "    .dataframe tbody tr th:only-of-type {\n",
       "        vertical-align: middle;\n",
       "    }\n",
       "\n",
       "    .dataframe tbody tr th {\n",
       "        vertical-align: top;\n",
       "    }\n",
       "\n",
       "    .dataframe thead th {\n",
       "        text-align: right;\n",
       "    }\n",
       "</style>\n",
       "<table border=\"1\" class=\"dataframe\">\n",
       "  <thead>\n",
       "    <tr style=\"text-align: right;\">\n",
       "      <th></th>\n",
       "      <th>bike</th>\n",
       "      <th>date</th>\n",
       "      <th>start</th>\n",
       "      <th>end</th>\n",
       "      <th>time</th>\n",
       "      <th>dist</th>\n",
       "    </tr>\n",
       "  </thead>\n",
       "  <tbody>\n",
       "    <tr>\n",
       "      <td>0</td>\n",
       "      <td>186</td>\n",
       "      <td>1</td>\n",
       "      <td>115</td>\n",
       "      <td>115</td>\n",
       "      <td>98</td>\n",
       "      <td>15240</td>\n",
       "    </tr>\n",
       "    <tr>\n",
       "      <td>1</td>\n",
       "      <td>403</td>\n",
       "      <td>1</td>\n",
       "      <td>112</td>\n",
       "      <td>102</td>\n",
       "      <td>286</td>\n",
       "      <td>10910</td>\n",
       "    </tr>\n",
       "    <tr>\n",
       "      <td>2</td>\n",
       "      <td>485</td>\n",
       "      <td>1</td>\n",
       "      <td>112</td>\n",
       "      <td>102</td>\n",
       "      <td>276</td>\n",
       "      <td>11000</td>\n",
       "    </tr>\n",
       "    <tr>\n",
       "      <td>3</td>\n",
       "      <td>292</td>\n",
       "      <td>1</td>\n",
       "      <td>221</td>\n",
       "      <td>221</td>\n",
       "      <td>63</td>\n",
       "      <td>16500</td>\n",
       "    </tr>\n",
       "    <tr>\n",
       "      <td>4</td>\n",
       "      <td>270</td>\n",
       "      <td>1</td>\n",
       "      <td>221</td>\n",
       "      <td>210</td>\n",
       "      <td>8</td>\n",
       "      <td>1870</td>\n",
       "    </tr>\n",
       "    <tr>\n",
       "      <td>...</td>\n",
       "      <td>...</td>\n",
       "      <td>...</td>\n",
       "      <td>...</td>\n",
       "      <td>...</td>\n",
       "      <td>...</td>\n",
       "      <td>...</td>\n",
       "    </tr>\n",
       "    <tr>\n",
       "      <td>1755041</td>\n",
       "      <td>14356</td>\n",
       "      <td>1748</td>\n",
       "      <td>1160</td>\n",
       "      <td>1160</td>\n",
       "      <td>119</td>\n",
       "      <td>18060</td>\n",
       "    </tr>\n",
       "    <tr>\n",
       "      <td>1755042</td>\n",
       "      <td>14454</td>\n",
       "      <td>1748</td>\n",
       "      <td>1235</td>\n",
       "      <td>1221</td>\n",
       "      <td>471</td>\n",
       "      <td>870</td>\n",
       "    </tr>\n",
       "    <tr>\n",
       "      <td>1755043</td>\n",
       "      <td>12680</td>\n",
       "      <td>1748</td>\n",
       "      <td>1346</td>\n",
       "      <td>1347</td>\n",
       "      <td>15</td>\n",
       "      <td>7230</td>\n",
       "    </tr>\n",
       "    <tr>\n",
       "      <td>1755044</td>\n",
       "      <td>32402</td>\n",
       "      <td>1748</td>\n",
       "      <td>1956</td>\n",
       "      <td>1956</td>\n",
       "      <td>919</td>\n",
       "      <td>39786.8</td>\n",
       "    </tr>\n",
       "    <tr>\n",
       "      <td>1755045</td>\n",
       "      <td>21598</td>\n",
       "      <td>1748</td>\n",
       "      <td>1008</td>\n",
       "      <td>1008</td>\n",
       "      <td>42</td>\n",
       "      <td>310</td>\n",
       "    </tr>\n",
       "  </tbody>\n",
       "</table>\n",
       "<p>44418663 rows × 6 columns</p>\n",
       "</div>"
      ],
      "text/plain": [
       "          bike  date start   end time     dist\n",
       "0          186     1   115   115   98    15240\n",
       "1          403     1   112   102  286    10910\n",
       "2          485     1   112   102  276    11000\n",
       "3          292     1   221   221   63    16500\n",
       "4          270     1   221   210    8     1870\n",
       "...        ...   ...   ...   ...  ...      ...\n",
       "1755041  14356  1748  1160  1160  119    18060\n",
       "1755042  14454  1748  1235  1221  471      870\n",
       "1755043  12680  1748  1346  1347   15     7230\n",
       "1755044  32402  1748  1956  1956  919  39786.8\n",
       "1755045  21598  1748  1008  1008   42      310\n",
       "\n",
       "[44418663 rows x 6 columns]"
      ]
     },
     "metadata": {},
     "output_type": "display_data"
    }
   ],
   "source": [
    "x = pd.DataFrame(columns = cols)\n",
    "for i in range(len(directory)): \n",
    "    y = pd.read_csv(ws+directory[i],encoding='utf-8')\n",
    "    is_date = 0 < min(y['date']) and max(y['date']) < 1920 # 2015.9.18 ~ 2020.12.20 날짜인지 검사\n",
    "    if not is_date :\n",
    "        print('#[date error]# :',directory[i])\n",
    "    else : print(i,end=\" \")\n",
    "    x = pd.concat([x,y]) \n",
    "display(x)\n",
    "\n",
    "# _Bike-Use46.csv\n",
    "# _Bike-Use47.csv\n",
    "# _Bike-Use48.csv\n",
    "# _Bike-Use49.csv\n",
    "# _Bike-Use50.csv"
   ]
  },
  {
   "cell_type": "code",
   "execution_count": 4,
   "metadata": {},
   "outputs": [
    {
     "data": {
      "text/plain": [
       "datetime.timedelta(days=1920)"
      ]
     },
     "execution_count": 4,
     "metadata": {},
     "output_type": "execute_result"
    }
   ],
   "source": [
    "datetime(2020, 12, 20)-datetime(2015, 9, 18)"
   ]
  },
  {
   "cell_type": "code",
   "execution_count": 11,
   "metadata": {
    "scrolled": true
   },
   "outputs": [
    {
     "data": {
      "text/plain": [
       "True"
      ]
     },
     "execution_count": 11,
     "metadata": {},
     "output_type": "execute_result"
    }
   ],
   "source": [
    "is_date = 0 < min(y['date']) and max(y['date']) < 1920"
   ]
  },
  {
   "cell_type": "code",
   "execution_count": 46,
   "metadata": {},
   "outputs": [
    {
     "data": {
      "text/html": [
       "<div>\n",
       "<style scoped>\n",
       "    .dataframe tbody tr th:only-of-type {\n",
       "        vertical-align: middle;\n",
       "    }\n",
       "\n",
       "    .dataframe tbody tr th {\n",
       "        vertical-align: top;\n",
       "    }\n",
       "\n",
       "    .dataframe thead th {\n",
       "        text-align: right;\n",
       "    }\n",
       "</style>\n",
       "<table border=\"1\" class=\"dataframe\">\n",
       "  <thead>\n",
       "    <tr style=\"text-align: right;\">\n",
       "      <th></th>\n",
       "      <th>자전거번호</th>\n",
       "      <th>대여일시</th>\n",
       "      <th>대여 대여소번호</th>\n",
       "      <th>대여 대여소명</th>\n",
       "      <th>대여거치대</th>\n",
       "      <th>반납일시</th>\n",
       "      <th>반납대여소번호</th>\n",
       "      <th>반납대여소명</th>\n",
       "      <th>반납거치대</th>\n",
       "      <th>이용시간</th>\n",
       "      <th>이용거리</th>\n",
       "    </tr>\n",
       "  </thead>\n",
       "  <tbody>\n",
       "    <tr>\n",
       "      <td>11750</td>\n",
       "      <td>SPB-07766</td>\n",
       "      <td>2020-02-01 13:33:02</td>\n",
       "      <td>1319</td>\n",
       "      <td>종암사거리 분?測?,2\"</td>\n",
       "      <td>2020-02-01 14:10:12</td>\n",
       "      <td>00583</td>\n",
       "      <td>청계천 생태교실 앞</td>\n",
       "      <td>4</td>\n",
       "      <td>36</td>\n",
       "      <td>6010</td>\n",
       "      <td>nan</td>\n",
       "    </tr>\n",
       "    <tr>\n",
       "      <td>35742</td>\n",
       "      <td>SPB-23097</td>\n",
       "      <td>2020-02-02 14:21:24</td>\n",
       "      <td>1840</td>\n",
       "      <td>솔브레인이엔지 ?泯?,18\"</td>\n",
       "      <td>2020-02-02 14:27:27</td>\n",
       "      <td>01830</td>\n",
       "      <td>빅마켓 금천점 앞</td>\n",
       "      <td>3</td>\n",
       "      <td>5</td>\n",
       "      <td>1250</td>\n",
       "      <td>nan</td>\n",
       "    </tr>\n",
       "    <tr>\n",
       "      <td>61682</td>\n",
       "      <td>SPB-16146</td>\n",
       "      <td>2020-02-03 15:13:19</td>\n",
       "      <td>1955</td>\n",
       "      <td>디지털입구 교?湯?,2\"</td>\n",
       "      <td>2020-02-03 15:17:46</td>\n",
       "      <td>02115</td>\n",
       "      <td>관악농협농산물백화점</td>\n",
       "      <td>5</td>\n",
       "      <td>4</td>\n",
       "      <td>0</td>\n",
       "      <td>nan</td>\n",
       "    </tr>\n",
       "    <tr>\n",
       "      <td>208689</td>\n",
       "      <td>SPB-07760</td>\n",
       "      <td>2020-02-10 02:34:17</td>\n",
       "      <td>2139</td>\n",
       "      <td>서?節탉봤茄紵閨?,2\"</td>\n",
       "      <td>2020-02-10 02:53:32</td>\n",
       "      <td>02136</td>\n",
       "      <td>신림역 8번출구</td>\n",
       "      <td>1</td>\n",
       "      <td>17</td>\n",
       "      <td>2810</td>\n",
       "      <td>nan</td>\n",
       "    </tr>\n",
       "    <tr>\n",
       "      <td>362287</td>\n",
       "      <td>SPB-05248</td>\n",
       "      <td>2020-02-14 23:05:49</td>\n",
       "      <td>907</td>\n",
       "      <td>CJ 드림?쳤?,5\"</td>\n",
       "      <td>2020-02-15 00:31:34</td>\n",
       "      <td>00931</td>\n",
       "      <td>역촌파출소</td>\n",
       "      <td>17</td>\n",
       "      <td>85</td>\n",
       "      <td>2280</td>\n",
       "      <td>nan</td>\n",
       "    </tr>\n",
       "    <tr>\n",
       "      <td>414156</td>\n",
       "      <td>SPB-07139</td>\n",
       "      <td>2020-02-18 08:18:14</td>\n",
       "      <td>1162</td>\n",
       "      <td>공항?茄紵閨낡풍覺?,6\"</td>\n",
       "      <td>2020-02-18 08:23:53</td>\n",
       "      <td>02701</td>\n",
       "      <td>마곡나루역 5번출구 뒤편</td>\n",
       "      <td>1</td>\n",
       "      <td>5</td>\n",
       "      <td>810</td>\n",
       "      <td>nan</td>\n",
       "    </tr>\n",
       "    <tr>\n",
       "      <td>525556</td>\n",
       "      <td>SPB-17539</td>\n",
       "      <td>2020-02-22 05:14:25</td>\n",
       "      <td>292</td>\n",
       "      <td>영일 어린이공??,3\"</td>\n",
       "      <td>2020-02-22 05:35:06</td>\n",
       "      <td>01960</td>\n",
       "      <td>화광신문사 앞</td>\n",
       "      <td>2</td>\n",
       "      <td>20</td>\n",
       "      <td>2110</td>\n",
       "      <td>nan</td>\n",
       "    </tr>\n",
       "    <tr>\n",
       "      <td>618632</td>\n",
       "      <td>SPB-02833</td>\n",
       "      <td>2020-02-26 03:24:45</td>\n",
       "      <td>641</td>\n",
       "      <td>용두역 4번?瘦?,10\"</td>\n",
       "      <td>2020-02-26 03:32:22</td>\n",
       "      <td>00633</td>\n",
       "      <td>청량리 기업은행 앞</td>\n",
       "      <td>1</td>\n",
       "      <td>7</td>\n",
       "      <td>830</td>\n",
       "      <td>nan</td>\n",
       "    </tr>\n",
       "    <tr>\n",
       "      <td>733682</td>\n",
       "      <td>SPB-19758</td>\n",
       "      <td>2020-02-29 23:21:38</td>\n",
       "      <td>1933</td>\n",
       "      <td>개봉푸르지오아파트 ?箚?,1\"</td>\n",
       "      <td>2020-02-29 23:34:35</td>\n",
       "      <td>00758</td>\n",
       "      <td>한사랑교회 앞</td>\n",
       "      <td>6</td>\n",
       "      <td>12</td>\n",
       "      <td>0</td>\n",
       "      <td>nan</td>\n",
       "    </tr>\n",
       "  </tbody>\n",
       "</table>\n",
       "</div>"
      ],
      "text/plain": [
       "            자전거번호                 대여일시  대여 대여소번호           대여 대여소명  \\\n",
       "11750   SPB-07766  2020-02-01 13:33:02      1319     종암사거리 분?測?,2\"   \n",
       "35742   SPB-23097  2020-02-02 14:21:24      1840   솔브레인이엔지 ?泯?,18\"   \n",
       "61682   SPB-16146  2020-02-03 15:13:19      1955     디지털입구 교?湯?,2\"   \n",
       "208689  SPB-07760  2020-02-10 02:34:17      2139      서?節탉봤茄紵閨?,2\"   \n",
       "362287  SPB-05248  2020-02-14 23:05:49       907       CJ 드림?쳤?,5\"   \n",
       "414156  SPB-07139  2020-02-18 08:18:14      1162     공항?茄紵閨낡풍覺?,6\"   \n",
       "525556  SPB-17539  2020-02-22 05:14:25       292      영일 어린이공??,3\"   \n",
       "618632  SPB-02833  2020-02-26 03:24:45       641     용두역 4번?瘦?,10\"   \n",
       "733682  SPB-19758  2020-02-29 23:21:38      1933  개봉푸르지오아파트 ?箚?,1\"   \n",
       "\n",
       "                      대여거치대   반납일시        반납대여소번호 반납대여소명  반납거치대  이용시간  이용거리  \n",
       "11750   2020-02-01 14:10:12  00583     청계천 생태교실 앞      4     36  6010   nan  \n",
       "35742   2020-02-02 14:27:27  01830      빅마켓 금천점 앞      3      5  1250   nan  \n",
       "61682   2020-02-03 15:17:46  02115     관악농협농산물백화점      5      4     0   nan  \n",
       "208689  2020-02-10 02:53:32  02136       신림역 8번출구      1     17  2810   nan  \n",
       "362287  2020-02-15 00:31:34  00931          역촌파출소     17     85  2280   nan  \n",
       "414156  2020-02-18 08:23:53  02701  마곡나루역 5번출구 뒤편      1      5   810   nan  \n",
       "525556  2020-02-22 05:35:06  01960        화광신문사 앞      2     20  2110   nan  \n",
       "618632  2020-02-26 03:32:22  00633     청량리 기업은행 앞      1      7   830   nan  \n",
       "733682  2020-02-29 23:34:35  00758        한사랑교회 앞      6     12     0   nan  "
      ]
     },
     "execution_count": 46,
     "metadata": {},
     "output_type": "execute_result"
    }
   ],
   "source": [
    "def set_df(n) : \n",
    "    x = pd.read_csv(ws+directory[n],encoding='CP949')\n",
    "    x = x.iloc[:,[0,5,2,6,9,10]]\n",
    "    x.columns = x.columns = ['bike','date','start','end','time','dist']\n",
    "    x['bike']=x['bike'].map(set_num)\n",
    "    return x\n",
    "\n",
    "y = set_df(47)\n",
    "y['date']=y['date'].map(lambda x : (parse(x[:10])-datetime(2015, 9, 18)).days)\n",
    "is_date_error = [False if 0 < days and days < 1920 else True for days in y['date']] \n",
    "\n",
    "pd.read_csv(ws+directory[47],encoding='CP949')[is_date_error]"
   ]
  },
  {
   "cell_type": "code",
   "execution_count": 100,
   "metadata": {},
   "outputs": [],
   "source": [
    "def set_df2(n) :     \n",
    "    x = pd.read_csv(ws+directory[n],encoding='CP949')\n",
    "    nan = x.iloc[:,10].isnull()\n",
    "    \n",
    "    error = x[nan]\n",
    "    y = x[~nan]\n",
    "        \n",
    "    y = y.iloc[:,[0,5,2,6,9,10]]\n",
    "    y.columns = ['bike','date','start','end','time','dist']\n",
    "    y['bike']=y['bike'].map(set_num)\n",
    "    y['date']=y['date'].map(lambda x : (parse(x[:10])-datetime(2015, 9, 18)).days)\n",
    "    \n",
    "    is_date = [0 < date and date < 1920 for date in y['date']]\n",
    "    if sum([not x for x in is_date]) != 0: \n",
    "        print(n)\n",
    "        return y[is_date],  pd.concat([error, y[~is_date]])\n",
    "    \n",
    "    return y, error"
   ]
  },
  {
   "cell_type": "code",
   "execution_count": 101,
   "metadata": {},
   "outputs": [],
   "source": [
    "for i in range(46,len(directory)):\n",
    "    x,error = set_df2(i)\n",
    "    \n",
    "    x.to_csv(f\"use/_Bike-Use{i}.csv\", index=False)\n",
    "    error.to_csv(f\"use/_Bike-Use-error{i}.csv\", index=False)"
   ]
  },
  {
   "cell_type": "markdown",
   "metadata": {},
   "source": [
    "# 하나로 합치기"
   ]
  },
  {
   "cell_type": "code",
   "execution_count": 158,
   "metadata": {},
   "outputs": [],
   "source": [
    "import os\n",
    "import numpy as np\n",
    "import pandas as pd\n",
    "import matplotlib.pyplot as plt\n",
    "from dateutil.parser import parse\n",
    "from datetime import datetime, timedelta\n",
    "\n",
    "def set_Int(name):\n",
    "    tp = type(name)\n",
    "    if tp == int : return name\n",
    "    elif tp == str :\n",
    "        name = name.strip(\"'\")\n",
    "        try :\n",
    "            name = int(name)\n",
    "            return name\n",
    "        except : \n",
    "            k = 0\n",
    "            if name == '중랑센터' : k = 3\n",
    "            elif name == '중랑정비팀test 1005' : k = 3\n",
    "            elif name == '상암센터 정비실' :k = 5\n",
    "            elif name == '위트콤공장' : k = 1\n",
    "            elif name == '위트콤' :k = 1\n",
    "            else : pass\n",
    "            print(k, end=\"\")\n",
    "            return k\n",
    "    \n",
    "    elif np.isnan(name) : return name\n",
    "    elif tp == float :  return int(name)\n",
    "    else: print(type(name)); return name\n",
    "    \n",
    "ws = \"use/\"\n",
    "directory = os.listdir(ws)\n",
    "# print(*directory, sep=\"\\n\")"
   ]
  },
  {
   "cell_type": "markdown",
   "metadata": {},
   "source": [
    "# 모두 정수형 데이터인지 확인"
   ]
  },
  {
   "cell_type": "code",
   "execution_count": 107,
   "metadata": {},
   "outputs": [
    {
     "name": "stdout",
     "output_type": "stream",
     "text": [
      "0 1 2 3 4 5 6 7 8 9 10 11 12 13 14 15 16 17 18 19 20 21 22 23 24 25 26 27 28 29 30 31 32 33 34 35 36 37 38 39 40 41 42 43 44 45 46 47 48 49 50 51 "
     ]
    },
    {
     "data": {
      "text/html": [
       "<div>\n",
       "<style scoped>\n",
       "    .dataframe tbody tr th:only-of-type {\n",
       "        vertical-align: middle;\n",
       "    }\n",
       "\n",
       "    .dataframe tbody tr th {\n",
       "        vertical-align: top;\n",
       "    }\n",
       "\n",
       "    .dataframe thead th {\n",
       "        text-align: right;\n",
       "    }\n",
       "</style>\n",
       "<table border=\"1\" class=\"dataframe\">\n",
       "  <thead>\n",
       "    <tr style=\"text-align: right;\">\n",
       "      <th></th>\n",
       "      <th>bike</th>\n",
       "      <th>date</th>\n",
       "      <th>start</th>\n",
       "      <th>end</th>\n",
       "      <th>time</th>\n",
       "      <th>dist</th>\n",
       "    </tr>\n",
       "  </thead>\n",
       "  <tbody>\n",
       "    <tr>\n",
       "      <td>0</td>\n",
       "      <td>186</td>\n",
       "      <td>1</td>\n",
       "      <td>115</td>\n",
       "      <td>115</td>\n",
       "      <td>98</td>\n",
       "      <td>15240</td>\n",
       "    </tr>\n",
       "    <tr>\n",
       "      <td>1</td>\n",
       "      <td>403</td>\n",
       "      <td>1</td>\n",
       "      <td>112</td>\n",
       "      <td>102</td>\n",
       "      <td>286</td>\n",
       "      <td>10910</td>\n",
       "    </tr>\n",
       "    <tr>\n",
       "      <td>2</td>\n",
       "      <td>485</td>\n",
       "      <td>1</td>\n",
       "      <td>112</td>\n",
       "      <td>102</td>\n",
       "      <td>276</td>\n",
       "      <td>11000</td>\n",
       "    </tr>\n",
       "    <tr>\n",
       "      <td>3</td>\n",
       "      <td>292</td>\n",
       "      <td>1</td>\n",
       "      <td>221</td>\n",
       "      <td>221</td>\n",
       "      <td>63</td>\n",
       "      <td>16500</td>\n",
       "    </tr>\n",
       "    <tr>\n",
       "      <td>4</td>\n",
       "      <td>270</td>\n",
       "      <td>1</td>\n",
       "      <td>221</td>\n",
       "      <td>210</td>\n",
       "      <td>8</td>\n",
       "      <td>1870</td>\n",
       "    </tr>\n",
       "    <tr>\n",
       "      <td>...</td>\n",
       "      <td>...</td>\n",
       "      <td>...</td>\n",
       "      <td>...</td>\n",
       "      <td>...</td>\n",
       "      <td>...</td>\n",
       "      <td>...</td>\n",
       "    </tr>\n",
       "    <tr>\n",
       "      <td>1755041</td>\n",
       "      <td>14356</td>\n",
       "      <td>1748</td>\n",
       "      <td>1160</td>\n",
       "      <td>1160</td>\n",
       "      <td>119</td>\n",
       "      <td>18060</td>\n",
       "    </tr>\n",
       "    <tr>\n",
       "      <td>1755042</td>\n",
       "      <td>14454</td>\n",
       "      <td>1748</td>\n",
       "      <td>1235</td>\n",
       "      <td>1221</td>\n",
       "      <td>471</td>\n",
       "      <td>870</td>\n",
       "    </tr>\n",
       "    <tr>\n",
       "      <td>1755043</td>\n",
       "      <td>12680</td>\n",
       "      <td>1748</td>\n",
       "      <td>1346</td>\n",
       "      <td>1347</td>\n",
       "      <td>15</td>\n",
       "      <td>7230</td>\n",
       "    </tr>\n",
       "    <tr>\n",
       "      <td>1755044</td>\n",
       "      <td>32402</td>\n",
       "      <td>1748</td>\n",
       "      <td>1956</td>\n",
       "      <td>1956</td>\n",
       "      <td>919</td>\n",
       "      <td>39786.8</td>\n",
       "    </tr>\n",
       "    <tr>\n",
       "      <td>1755045</td>\n",
       "      <td>21598</td>\n",
       "      <td>1748</td>\n",
       "      <td>1008</td>\n",
       "      <td>1008</td>\n",
       "      <td>42</td>\n",
       "      <td>310</td>\n",
       "    </tr>\n",
       "  </tbody>\n",
       "</table>\n",
       "<p>44418544 rows × 6 columns</p>\n",
       "</div>"
      ],
      "text/plain": [
       "          bike  date start   end time    dist\n",
       "0          186     1   115   115   98   15240\n",
       "1          403     1   112   102  286   10910\n",
       "2          485     1   112   102  276   11000\n",
       "3          292     1   221   221   63   16500\n",
       "4          270     1   221   210    8    1870\n",
       "...        ...   ...   ...   ...  ...     ...\n",
       "1755041  14356  1748  1160  1160  119   18060\n",
       "1755042  14454  1748  1235  1221  471     870\n",
       "1755043  12680  1748  1346  1347   15    7230\n",
       "1755044  32402  1748  1956  1956  919 39786.8\n",
       "1755045  21598  1748  1008  1008   42     310\n",
       "\n",
       "[44418544 rows x 6 columns]"
      ]
     },
     "metadata": {},
     "output_type": "display_data"
    }
   ],
   "source": [
    "cols = ['bike', 'date', 'start', 'end', 'time', 'dist']\n",
    "x = pd.DataFrame(columns = cols)\n",
    "for i in range(len(directory)): \n",
    "    y = pd.read_csv(ws+directory[i],encoding='utf-8')\n",
    "    is_date = 0 < min(y['date']) and max(y['date']) < 1920 # 2015.9.18 ~ 2020.12.20 날짜인지 검사\n",
    "    if not is_date :\n",
    "        print('#[date error]# :',directory[i])\n",
    "    else : print(i,end=\" \")\n",
    "    x = pd.concat([x,y]) \n",
    "display(x)"
   ]
  },
  {
   "cell_type": "code",
   "execution_count": 109,
   "metadata": {},
   "outputs": [
    {
     "name": "stdout",
     "output_type": "stream",
     "text": [
      "bike 0\n",
      "date 3145725\n",
      "start 13377238\n",
      "end 13377238\n",
      "time 10403754\n",
      "dist 31131628\n"
     ]
    }
   ],
   "source": [
    "result = x\n",
    "for col in cols :\n",
    "    print(col, sum([type(x) != int for x in result[col]]))"
   ]
  },
  {
   "cell_type": "code",
   "execution_count": 196,
   "metadata": {},
   "outputs": [],
   "source": [
    "result = result.dropna() # nan 붙어있는 데이터 삭제"
   ]
  },
  {
   "cell_type": "code",
   "execution_count": 155,
   "metadata": {},
   "outputs": [
    {
     "name": "stderr",
     "output_type": "stream",
     "text": [
      "C:\\Users\\pwb1128\\Anaconda3\\lib\\site-packages\\ipykernel_launcher.py:1: SettingWithCopyWarning: \n",
      "A value is trying to be set on a copy of a slice from a DataFrame.\n",
      "Try using .loc[row_indexer,col_indexer] = value instead\n",
      "\n",
      "See the caveats in the documentation: http://pandas.pydata.org/pandas-docs/stable/user_guide/indexing.html#returning-a-view-versus-a-copy\n",
      "  \"\"\"Entry point for launching an IPython kernel.\n"
     ]
    }
   ],
   "source": [
    "result['date'] = result['date'].map(set_Int)"
   ]
  },
  {
   "cell_type": "code",
   "execution_count": 149,
   "metadata": {
    "scrolled": false
   },
   "outputs": [
    {
     "name": "stderr",
     "output_type": "stream",
     "text": [
      "C:\\Users\\pwb1128\\Anaconda3\\lib\\site-packages\\ipykernel_launcher.py:1: SettingWithCopyWarning: \n",
      "A value is trying to be set on a copy of a slice from a DataFrame.\n",
      "Try using .loc[row_indexer,col_indexer] = value instead\n",
      "\n",
      "See the caveats in the documentation: http://pandas.pydata.org/pandas-docs/stable/user_guide/indexing.html#returning-a-view-versus-a-copy\n",
      "  \"\"\"Entry point for launching an IPython kernel.\n"
     ]
    }
   ],
   "source": [
    "result['start'] = result['start'].map(set_Int)"
   ]
  },
  {
   "cell_type": "code",
   "execution_count": 152,
   "metadata": {
    "scrolled": false
   },
   "outputs": [
    {
     "name": "stderr",
     "output_type": "stream",
     "text": [
      "C:\\Users\\pwb1128\\Anaconda3\\lib\\site-packages\\ipykernel_launcher.py:1: SettingWithCopyWarning: \n",
      "A value is trying to be set on a copy of a slice from a DataFrame.\n",
      "Try using .loc[row_indexer,col_indexer] = value instead\n",
      "\n",
      "See the caveats in the documentation: http://pandas.pydata.org/pandas-docs/stable/user_guide/indexing.html#returning-a-view-versus-a-copy\n",
      "  \"\"\"Entry point for launching an IPython kernel.\n"
     ]
    }
   ],
   "source": [
    "result['end'] = result['end'].map(set_Int)"
   ]
  },
  {
   "cell_type": "code",
   "execution_count": 153,
   "metadata": {},
   "outputs": [
    {
     "name": "stderr",
     "output_type": "stream",
     "text": [
      "C:\\Users\\pwb1128\\Anaconda3\\lib\\site-packages\\ipykernel_launcher.py:1: SettingWithCopyWarning: \n",
      "A value is trying to be set on a copy of a slice from a DataFrame.\n",
      "Try using .loc[row_indexer,col_indexer] = value instead\n",
      "\n",
      "See the caveats in the documentation: http://pandas.pydata.org/pandas-docs/stable/user_guide/indexing.html#returning-a-view-versus-a-copy\n",
      "  \"\"\"Entry point for launching an IPython kernel.\n"
     ]
    }
   ],
   "source": [
    "result['time'] = result['time'].map(set_Int)"
   ]
  },
  {
   "cell_type": "code",
   "execution_count": 197,
   "metadata": {},
   "outputs": [],
   "source": [
    "result['dist'] = result['dist'].map(set_Int)"
   ]
  },
  {
   "cell_type": "code",
   "execution_count": 137,
   "metadata": {},
   "outputs": [
    {
     "name": "stdout",
     "output_type": "stream",
     "text": [
      "{'5': 374, '3': 836, '1': 384}\n",
      "{'5': 522, '3': 864, '1': 383}\n"
     ]
    }
   ],
   "source": [
    "start_log = '5555555555553333355555555553355555555555555555555555555535555533353333555555555555555555555555555555555555555555555555555555555555555555555555555555555553555555555555555555555555555555555555553555555555355553335353333333353353335535555555335535533333335555533335555535333355553335533513533111111111155333335133353131315335111113313333135151111111311113331155555333111133331311111111111111111111111111531131111111133111111333331131313333351133133113133311111111111555311311333335331111333333333333333333331533313333331133131331333533333331111111111113333311313133333333331131113311113313333333333333533333333333333333333333313333333113333311115133133333333333333333331311111153111555515111111135533511111355115535551331555555131111153511111115111111111111113355555555555535553553115311113331111111111111111111115151111111111111111111111111111555331111111111111111111111111111153311115333333355333533333535333333333333333533135333111111113113311113111333311111111113333113333133333355333335333335355333333111111111111111131111131111111133111111113311135113133333331333333353333111133333313311331133333333333333333333335333333333333333333333333333333333333333333333333333333333333333333333333533333335333353333333333333333111333333353333333333333333333353333333333333333333333555333333335355535555553333333333333333333555533553333353335333333333333533333333333333333353333333333333333333333333333333333333333335335333333333353333333353333533333555333553333335333335333333533353333333335333533333333333355533553333333333333333333333333333535535333333333333335333333333333335533533333333353335533333'\n",
    "end_log = '55555555555553335533555555555533555555555555555555555555555553555555333333355555555555555555555555555555555555555555555555555555555555555555555555555555555555535555555555555555555555555555555555555535555555555553555555333553533333335553353555553555535335553555555555555533555555555355553355335553335555555555553353553555553555553333555553335555555533513533111111111115533333513335313315335115111331533331351531111113111155553331155555535331111333313511111155511111111111111111111531111133113111353311111133333331131313333351313111313333111111111115555113113335111133333333333333333333331353331333333333311311153533533353311111111111133333313113133333333333533311333111311113331333333333335333333333333333333333333333335313335333331133333333333111113333333331333333333333333333333331511111153155115555551555111111135553355111113555115555355513355155555513311115355151111115511111111111111333355555555555555535535355311533111135151111111111111131111115151111111111111111111111111135115555555555333131111111111511111111111111111155331111533333553553533553535533515311111113151133111111135311111111115331133335513335555333555333355533311111111111111111111131111111133511111111351113553113133333353133335333331111133313113311353333333333533333333333353333333333333333333333333333353333333333333333333333333333333533333333333333335333533333333333333111333533333333333333333335333333333333333333333355533333353555355555533333333333333333335555533335533333533533333533333333335333333333333333335333333333333333333333333333333333333333333335535333333333333333353333333333533333333335553333355333535333333353333533333333533353333333533333555333333335533333333333533333333333333333333333333333333335533533333333353333333333553333333333333355353355355333333353333533333333553333333'\n",
    "\n",
    "dicA = {}\n",
    "for s in start_log :\n",
    "    if s in dicA.keys(): dicA[s] += 1\n",
    "    else: dicA[s] = 1\n",
    "\n",
    "dicB = {}\n",
    "for s in end_log :\n",
    "    if s in dicB.keys(): dicB[s] += 1\n",
    "    else: dicB[s] = 1\n",
    "\n",
    "print(dicA)\n",
    "print(dicB)\n",
    "\n",
    "# (1) 위트콤공장  \n",
    "# (3) 중랑정비팀test 1005'   \n",
    "# (5) 상암센터 정비실  "
   ]
  },
  {
   "cell_type": "markdown",
   "metadata": {},
   "source": [
    "데이터에 nan 값이 있으면 folat 타입으로 변환된다. \n",
    "bike : 0  \n",
    "date : 3145725  (floa)  \n",
    "start : 13377238 (와트콤 384, 중량 836, 상암 374)  \n",
    "end  : 13377238 (와트콤 384, 중량 864, 상암 522)  \n",
    "time : 10403754 (str)  \n",
    "dist : 31131628 (str, flot)  "
   ]
  },
  {
   "cell_type": "code",
   "execution_count": 198,
   "metadata": {},
   "outputs": [
    {
     "name": "stdout",
     "output_type": "stream",
     "text": [
      "dist 0\n"
     ]
    }
   ],
   "source": [
    "print(col, sum([type(x) != int for x in result['dist']]))"
   ]
  },
  {
   "cell_type": "code",
   "execution_count": 156,
   "metadata": {},
   "outputs": [
    {
     "name": "stdout",
     "output_type": "stream",
     "text": [
      "bike 0\n",
      "date 0\n",
      "start 0\n",
      "end 0\n",
      "time 0\n",
      "dist 0\n"
     ]
    }
   ],
   "source": [
    "for col in cols :\n",
    "    print(col, sum([type(x) != int for x in result[col]]))"
   ]
  },
  {
   "cell_type": "code",
   "execution_count": 159,
   "metadata": {},
   "outputs": [
    {
     "data": {
      "text/html": [
       "<div>\n",
       "<style scoped>\n",
       "    .dataframe tbody tr th:only-of-type {\n",
       "        vertical-align: middle;\n",
       "    }\n",
       "\n",
       "    .dataframe tbody tr th {\n",
       "        vertical-align: top;\n",
       "    }\n",
       "\n",
       "    .dataframe thead th {\n",
       "        text-align: right;\n",
       "    }\n",
       "</style>\n",
       "<table border=\"1\" class=\"dataframe\">\n",
       "  <thead>\n",
       "    <tr style=\"text-align: right;\">\n",
       "      <th></th>\n",
       "      <th>bike</th>\n",
       "      <th>date</th>\n",
       "      <th>start</th>\n",
       "      <th>end</th>\n",
       "      <th>time</th>\n",
       "      <th>dist</th>\n",
       "    </tr>\n",
       "  </thead>\n",
       "  <tbody>\n",
       "    <tr>\n",
       "      <td>0</td>\n",
       "      <td>186</td>\n",
       "      <td>1</td>\n",
       "      <td>115</td>\n",
       "      <td>115</td>\n",
       "      <td>98</td>\n",
       "      <td>15240</td>\n",
       "    </tr>\n",
       "    <tr>\n",
       "      <td>1</td>\n",
       "      <td>403</td>\n",
       "      <td>1</td>\n",
       "      <td>112</td>\n",
       "      <td>102</td>\n",
       "      <td>286</td>\n",
       "      <td>10910</td>\n",
       "    </tr>\n",
       "    <tr>\n",
       "      <td>2</td>\n",
       "      <td>485</td>\n",
       "      <td>1</td>\n",
       "      <td>112</td>\n",
       "      <td>102</td>\n",
       "      <td>276</td>\n",
       "      <td>11000</td>\n",
       "    </tr>\n",
       "    <tr>\n",
       "      <td>3</td>\n",
       "      <td>292</td>\n",
       "      <td>1</td>\n",
       "      <td>221</td>\n",
       "      <td>221</td>\n",
       "      <td>63</td>\n",
       "      <td>16500</td>\n",
       "    </tr>\n",
       "    <tr>\n",
       "      <td>4</td>\n",
       "      <td>270</td>\n",
       "      <td>1</td>\n",
       "      <td>221</td>\n",
       "      <td>210</td>\n",
       "      <td>8</td>\n",
       "      <td>1870</td>\n",
       "    </tr>\n",
       "    <tr>\n",
       "      <td>...</td>\n",
       "      <td>...</td>\n",
       "      <td>...</td>\n",
       "      <td>...</td>\n",
       "      <td>...</td>\n",
       "      <td>...</td>\n",
       "      <td>...</td>\n",
       "    </tr>\n",
       "    <tr>\n",
       "      <td>1755041</td>\n",
       "      <td>14356</td>\n",
       "      <td>1748</td>\n",
       "      <td>1160</td>\n",
       "      <td>1160</td>\n",
       "      <td>119</td>\n",
       "      <td>18060</td>\n",
       "    </tr>\n",
       "    <tr>\n",
       "      <td>1755042</td>\n",
       "      <td>14454</td>\n",
       "      <td>1748</td>\n",
       "      <td>1235</td>\n",
       "      <td>1221</td>\n",
       "      <td>471</td>\n",
       "      <td>870</td>\n",
       "    </tr>\n",
       "    <tr>\n",
       "      <td>1755043</td>\n",
       "      <td>12680</td>\n",
       "      <td>1748</td>\n",
       "      <td>1346</td>\n",
       "      <td>1347</td>\n",
       "      <td>15</td>\n",
       "      <td>7230</td>\n",
       "    </tr>\n",
       "    <tr>\n",
       "      <td>1755044</td>\n",
       "      <td>32402</td>\n",
       "      <td>1748</td>\n",
       "      <td>1956</td>\n",
       "      <td>1956</td>\n",
       "      <td>919</td>\n",
       "      <td>39786</td>\n",
       "    </tr>\n",
       "    <tr>\n",
       "      <td>1755045</td>\n",
       "      <td>21598</td>\n",
       "      <td>1748</td>\n",
       "      <td>1008</td>\n",
       "      <td>1008</td>\n",
       "      <td>42</td>\n",
       "      <td>310</td>\n",
       "    </tr>\n",
       "  </tbody>\n",
       "</table>\n",
       "<p>43050444 rows × 6 columns</p>\n",
       "</div>"
      ],
      "text/plain": [
       "          bike  date  start   end  time   dist\n",
       "0          186     1    115   115    98  15240\n",
       "1          403     1    112   102   286  10910\n",
       "2          485     1    112   102   276  11000\n",
       "3          292     1    221   221    63  16500\n",
       "4          270     1    221   210     8   1870\n",
       "...        ...   ...    ...   ...   ...    ...\n",
       "1755041  14356  1748   1160  1160   119  18060\n",
       "1755042  14454  1748   1235  1221   471    870\n",
       "1755043  12680  1748   1346  1347    15   7230\n",
       "1755044  32402  1748   1956  1956   919  39786\n",
       "1755045  21598  1748   1008  1008    42    310\n",
       "\n",
       "[43050444 rows x 6 columns]"
      ]
     },
     "execution_count": 159,
     "metadata": {},
     "output_type": "execute_result"
    }
   ],
   "source": [
    "result"
   ]
  },
  {
   "cell_type": "markdown",
   "metadata": {},
   "source": [
    "# 에러 복원값과 합치기"
   ]
  },
  {
   "cell_type": "code",
   "execution_count": 181,
   "metadata": {},
   "outputs": [
    {
     "data": {
      "text/html": [
       "<div>\n",
       "<style scoped>\n",
       "    .dataframe tbody tr th:only-of-type {\n",
       "        vertical-align: middle;\n",
       "    }\n",
       "\n",
       "    .dataframe tbody tr th {\n",
       "        vertical-align: top;\n",
       "    }\n",
       "\n",
       "    .dataframe thead th {\n",
       "        text-align: right;\n",
       "    }\n",
       "</style>\n",
       "<table border=\"1\" class=\"dataframe\">\n",
       "  <thead>\n",
       "    <tr style=\"text-align: right;\">\n",
       "      <th></th>\n",
       "      <th>자전거</th>\n",
       "      <th>반납시간</th>\n",
       "      <th>대여대여소</th>\n",
       "      <th>반답대여소</th>\n",
       "      <th>시간</th>\n",
       "      <th>이동거리</th>\n",
       "    </tr>\n",
       "  </thead>\n",
       "  <tbody>\n",
       "    <tr>\n",
       "      <td>0</td>\n",
       "      <td>SPB-09846</td>\n",
       "      <td>2020-01-03 6:56</td>\n",
       "      <td>1162</td>\n",
       "      <td>2701</td>\n",
       "      <td>4</td>\n",
       "      <td>830</td>\n",
       "    </tr>\n",
       "    <tr>\n",
       "      <td>1</td>\n",
       "      <td>SPB-02297</td>\n",
       "      <td>2020-01-03 18:00</td>\n",
       "      <td>1428</td>\n",
       "      <td>1428</td>\n",
       "      <td>23</td>\n",
       "      <td>0</td>\n",
       "    </tr>\n",
       "    <tr>\n",
       "      <td>2</td>\n",
       "      <td>SPB-16990</td>\n",
       "      <td>2020-01-03 18:21</td>\n",
       "      <td>1986</td>\n",
       "      <td>1916</td>\n",
       "      <td>10</td>\n",
       "      <td>1570</td>\n",
       "    </tr>\n",
       "    <tr>\n",
       "      <td>3</td>\n",
       "      <td>SPB-12017</td>\n",
       "      <td>2020-01-04 11:41</td>\n",
       "      <td>3509</td>\n",
       "      <td>3518</td>\n",
       "      <td>3</td>\n",
       "      <td>760</td>\n",
       "    </tr>\n",
       "    <tr>\n",
       "      <td>4</td>\n",
       "      <td>SPB-07700</td>\n",
       "      <td>2020-01-10 17:56</td>\n",
       "      <td>1984</td>\n",
       "      <td>2135</td>\n",
       "      <td>30</td>\n",
       "      <td>5360</td>\n",
       "    </tr>\n",
       "    <tr>\n",
       "      <td>...</td>\n",
       "      <td>...</td>\n",
       "      <td>...</td>\n",
       "      <td>...</td>\n",
       "      <td>...</td>\n",
       "      <td>...</td>\n",
       "      <td>...</td>\n",
       "    </tr>\n",
       "    <tr>\n",
       "      <td>114</td>\n",
       "      <td>SPB-11397</td>\n",
       "      <td>2020-05-23 14:54</td>\n",
       "      <td>1438</td>\n",
       "      <td>1441</td>\n",
       "      <td>12</td>\n",
       "      <td>1680</td>\n",
       "    </tr>\n",
       "    <tr>\n",
       "      <td>115</td>\n",
       "      <td>SPB-22925</td>\n",
       "      <td>2020-05-25 20:49</td>\n",
       "      <td>1162</td>\n",
       "      <td>1162</td>\n",
       "      <td>115</td>\n",
       "      <td>13120</td>\n",
       "    </tr>\n",
       "    <tr>\n",
       "      <td>116</td>\n",
       "      <td>SPB-22403</td>\n",
       "      <td>2020-05-27 20:19</td>\n",
       "      <td>1841</td>\n",
       "      <td>2177</td>\n",
       "      <td>15</td>\n",
       "      <td>2390</td>\n",
       "    </tr>\n",
       "    <tr>\n",
       "      <td>117</td>\n",
       "      <td>SPB-32384</td>\n",
       "      <td>2020-05-28 7:34</td>\n",
       "      <td>1162</td>\n",
       "      <td>1106</td>\n",
       "      <td>56</td>\n",
       "      <td>0</td>\n",
       "    </tr>\n",
       "    <tr>\n",
       "      <td>118</td>\n",
       "      <td>SPB-15749</td>\n",
       "      <td>2020-05-28 16:15</td>\n",
       "      <td>1906</td>\n",
       "      <td>1901</td>\n",
       "      <td>6</td>\n",
       "      <td>1310</td>\n",
       "    </tr>\n",
       "  </tbody>\n",
       "</table>\n",
       "<p>119 rows × 6 columns</p>\n",
       "</div>"
      ],
      "text/plain": [
       "           자전거              반납시간  대여대여소  반답대여소   시간  이동거리\n",
       "0    SPB-09846   2020-01-03 6:56   1162   2701    4   830\n",
       "1    SPB-02297  2020-01-03 18:00   1428   1428   23     0\n",
       "2    SPB-16990  2020-01-03 18:21   1986   1916   10  1570\n",
       "3    SPB-12017  2020-01-04 11:41   3509   3518    3   760\n",
       "4    SPB-07700  2020-01-10 17:56   1984   2135   30  5360\n",
       "..         ...               ...    ...    ...  ...   ...\n",
       "114  SPB-11397  2020-05-23 14:54   1438   1441   12  1680\n",
       "115  SPB-22925  2020-05-25 20:49   1162   1162  115 13120\n",
       "116  SPB-22403  2020-05-27 20:19   1841   2177   15  2390\n",
       "117  SPB-32384   2020-05-28 7:34   1162   1106   56     0\n",
       "118  SPB-15749  2020-05-28 16:15   1906   1901    6  1310\n",
       "\n",
       "[119 rows x 6 columns]"
      ]
     },
     "execution_count": 181,
     "metadata": {},
     "output_type": "execute_result"
    }
   ],
   "source": [
    "fixed = pd.read_csv('./_Bike-Use-errors-fixed.csv',encoding='CP949') ; fixed"
   ]
  },
  {
   "cell_type": "code",
   "execution_count": 182,
   "metadata": {},
   "outputs": [],
   "source": [
    "y = fixed\n",
    "y.columns = ['bike','date','start','end','time','dist']\n",
    "y['bike']=y['bike'].map(set_num)\n",
    "y['date']=y['date'].map(lambda x : (parse(x[:10])-datetime(2015, 9, 18)).days)\n",
    "fixed = y"
   ]
  },
  {
   "cell_type": "code",
   "execution_count": 189,
   "metadata": {},
   "outputs": [],
   "source": [
    "# result = pd.concat([result,y])\n",
    "result = result.sort_values(by='date')"
   ]
  },
  {
   "cell_type": "code",
   "execution_count": 199,
   "metadata": {},
   "outputs": [],
   "source": [
    "result.to_csv(f\"Bike-Use-final.csv\", index=False)"
   ]
  },
  {
   "cell_type": "markdown",
   "metadata": {},
   "source": [
    "# 사용량 그래프 그리기"
   ]
  },
  {
   "cell_type": "code",
   "execution_count": 191,
   "metadata": {},
   "outputs": [],
   "source": [
    "a = result.date.value_counts()"
   ]
  },
  {
   "cell_type": "code",
   "execution_count": 192,
   "metadata": {},
   "outputs": [
    {
     "data": {
      "text/html": [
       "<div>\n",
       "<style scoped>\n",
       "    .dataframe tbody tr th:only-of-type {\n",
       "        vertical-align: middle;\n",
       "    }\n",
       "\n",
       "    .dataframe tbody tr th {\n",
       "        vertical-align: top;\n",
       "    }\n",
       "\n",
       "    .dataframe thead th {\n",
       "        text-align: right;\n",
       "    }\n",
       "</style>\n",
       "<table border=\"1\" class=\"dataframe\">\n",
       "  <thead>\n",
       "    <tr style=\"text-align: right;\">\n",
       "      <th></th>\n",
       "      <th>date</th>\n",
       "      <th>count</th>\n",
       "    </tr>\n",
       "  </thead>\n",
       "  <tbody>\n",
       "    <tr>\n",
       "      <td>0</td>\n",
       "      <td>1686</td>\n",
       "      <td>94067</td>\n",
       "    </tr>\n",
       "    <tr>\n",
       "      <td>1</td>\n",
       "      <td>1390</td>\n",
       "      <td>92191</td>\n",
       "    </tr>\n",
       "    <tr>\n",
       "      <td>2</td>\n",
       "      <td>1477</td>\n",
       "      <td>91263</td>\n",
       "    </tr>\n",
       "    <tr>\n",
       "      <td>3</td>\n",
       "      <td>1384</td>\n",
       "      <td>91079</td>\n",
       "    </tr>\n",
       "    <tr>\n",
       "      <td>4</td>\n",
       "      <td>1690</td>\n",
       "      <td>91007</td>\n",
       "    </tr>\n",
       "    <tr>\n",
       "      <td>...</td>\n",
       "      <td>...</td>\n",
       "      <td>...</td>\n",
       "    </tr>\n",
       "    <tr>\n",
       "      <td>1714</td>\n",
       "      <td>50</td>\n",
       "      <td>62</td>\n",
       "    </tr>\n",
       "    <tr>\n",
       "      <td>1715</td>\n",
       "      <td>15</td>\n",
       "      <td>47</td>\n",
       "    </tr>\n",
       "    <tr>\n",
       "      <td>1716</td>\n",
       "      <td>657</td>\n",
       "      <td>9</td>\n",
       "    </tr>\n",
       "    <tr>\n",
       "      <td>1717</td>\n",
       "      <td>1018</td>\n",
       "      <td>1</td>\n",
       "    </tr>\n",
       "    <tr>\n",
       "      <td>1718</td>\n",
       "      <td>1019</td>\n",
       "      <td>1</td>\n",
       "    </tr>\n",
       "  </tbody>\n",
       "</table>\n",
       "<p>1719 rows × 2 columns</p>\n",
       "</div>"
      ],
      "text/plain": [
       "      date  count\n",
       "0     1686  94067\n",
       "1     1390  92191\n",
       "2     1477  91263\n",
       "3     1384  91079\n",
       "4     1690  91007\n",
       "...    ...    ...\n",
       "1714    50     62\n",
       "1715    15     47\n",
       "1716   657      9\n",
       "1717  1018      1\n",
       "1718  1019      1\n",
       "\n",
       "[1719 rows x 2 columns]"
      ]
     },
     "execution_count": 192,
     "metadata": {},
     "output_type": "execute_result"
    }
   ],
   "source": [
    "b = pd.DataFrame({'date' : a.index, 'count' : a.values})\n",
    "b"
   ]
  },
  {
   "cell_type": "code",
   "execution_count": 193,
   "metadata": {},
   "outputs": [
    {
     "data": {
      "text/plain": [
       "<matplotlib.axes._subplots.AxesSubplot at 0x273394dde48>"
      ]
     },
     "execution_count": 193,
     "metadata": {},
     "output_type": "execute_result"
    },
    {
     "data": {
      "image/png": "[encoded data removed]",
      "text/plain": [
       "<Figure size 432x288 with 1 Axes>"
      ]
     },
     "metadata": {
      "needs_background": "light"
     },
     "output_type": "display_data"
    }
   ],
   "source": [
    "b.plot.scatter(x='date', y='count')"
   ]
  }
 ],
 "metadata": {
  "kernelspec": {
   "display_name": "Python 3",
   "language": "python",
   "name": "python3"
  },
  "language_info": {
   "codemirror_mode": {
    "name": "ipython",
    "version": 3
   },
   "file_extension": ".py",
   "mimetype": "text/x-python",
   "name": "python",
   "nbconvert_exporter": "python",
   "pygments_lexer": "ipython3",
   "version": "3.7.4"
  }
 },
 "nbformat": 4,
 "nbformat_minor": 2
}
